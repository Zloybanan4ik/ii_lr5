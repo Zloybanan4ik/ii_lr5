{
 "cells": [
  {
   "cell_type": "code",
   "execution_count": 2,
   "id": "361c9628-55f3-4303-9550-b40a141920f0",
   "metadata": {},
   "outputs": [
    {
     "name": "stdout",
     "output_type": "stream",
     "text": [
      "    Фамилия   Имя      Телефон Дата рождения\n",
      "0    Иванов  Петр  89101234567    1990-03-01\n",
      "1  Сидорова  Анна  89001112233    1995-03-25\n"
     ]
    },
    {
     "name": "stderr",
     "output_type": "stream",
     "text": [
      "/home/lyash/workspace/ii_lr5/Practical/src/person_manager.py:13: FutureWarning: The behavior of DataFrame concatenation with empty or all-NA entries is deprecated. In a future version, this will no longer exclude empty or all-NA columns when determining the result dtypes. To retain the old behavior, exclude the relevant entries before the concat operation.\n",
      "  df = pd.concat([df, new_row], ignore_index=True)\n"
     ]
    }
   ],
   "source": [
    "from src.person_manager import *\n",
    "\n",
    "df = pd.DataFrame(columns=[\"Фамилия\", \"Имя\", \"Телефон\", \"Дата рождения\"])\n",
    "\n",
    "# Пример\n",
    "df = add_person(df, \"Иванов\", \"Петр\", \"89101234567\", \"01.03.1990\")\n",
    "df = add_person(df, \"Сидорова\", \"Анна\", \"89001112233\", \"25.03.1995\")\n",
    "\n",
    "print(find_by_month(df, 3))\n",
    "\n",
    "save_to_parquet(df)\n"
   ]
  },
  {
   "cell_type": "code",
   "execution_count": null,
   "id": "15fd8e7e-87ae-4991-ba14-9db4c87bdaee",
   "metadata": {},
   "outputs": [],
   "source": []
  }
 ],
 "metadata": {
  "kernelspec": {
   "display_name": "Python 3 (ipykernel)",
   "language": "python",
   "name": "python3"
  },
  "language_info": {
   "codemirror_mode": {
    "name": "ipython",
    "version": 3
   },
   "file_extension": ".py",
   "mimetype": "text/x-python",
   "name": "python",
   "nbconvert_exporter": "python",
   "pygments_lexer": "ipython3",
   "version": "3.12.7"
  }
 },
 "nbformat": 4,
 "nbformat_minor": 5
}
