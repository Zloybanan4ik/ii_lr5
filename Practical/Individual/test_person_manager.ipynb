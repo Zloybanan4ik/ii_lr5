{
 "cells": [
  {
   "cell_type": "code",
   "execution_count": 1,
   "id": "f4d84cba-603e-4e9b-b9fc-1f108384745b",
   "metadata": {},
   "outputs": [],
   "source": [
    "import pandas as pd\n",
    "from src.person_manager import add_person\n",
    "\n",
    "\n",
    "def test_add_person():\n",
    "    df = pd.DataFrame(columns=[\"Фамилия\", \"Имя\", \"Телефон\", \"Дата рождения\"])\n",
    "    df = add_person(df, \"Иванов\", \"Иван\", \"89101234567\", \"01.01.2000\")\n",
    "    assert len(df) == 1\n",
    "    assert df.iloc[0][\"Имя\"] == \"Иван\"\n"
   ]
  },
  {
   "cell_type": "code",
   "execution_count": 2,
   "id": "67d78838-14c3-4d2b-a2a2-5ca0dd8894f7",
   "metadata": {},
   "outputs": [
    {
     "name": "stderr",
     "output_type": "stream",
     "text": [
      "/home/lyash/workspace/ii_lr5/Practical/src/person_manager.py:13: FutureWarning: The behavior of DataFrame concatenation with empty or all-NA entries is deprecated. In a future version, this will no longer exclude empty or all-NA columns when determining the result dtypes. To retain the old behavior, exclude the relevant entries before the concat operation.\n",
      "  df = pd.concat([df, new_row], ignore_index=True)\n"
     ]
    }
   ],
   "source": [
    "test_add_person()"
   ]
  },
  {
   "cell_type": "code",
   "execution_count": null,
   "id": "7fbd0b25-3a19-4842-9b47-ba0bb704734c",
   "metadata": {},
   "outputs": [],
   "source": []
  }
 ],
 "metadata": {
  "kernelspec": {
   "display_name": "Python 3 (ipykernel)",
   "language": "python",
   "name": "python3"
  },
  "language_info": {
   "codemirror_mode": {
    "name": "ipython",
    "version": 3
   },
   "file_extension": ".py",
   "mimetype": "text/x-python",
   "name": "python",
   "nbconvert_exporter": "python",
   "pygments_lexer": "ipython3",
   "version": "3.12.7"
  }
 },
 "nbformat": 4,
 "nbformat_minor": 5
}
