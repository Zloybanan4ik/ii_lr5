{
 "cells": [
  {
   "cell_type": "code",
   "execution_count": 3,
   "id": "1087e28e-b3b6-4f4f-af3a-422a5872b49b",
   "metadata": {},
   "outputs": [],
   "source": [
    "import pandas as pd\n",
    "from datetime import datetime\n",
    "import pyarrow as pa\n",
    "import pyarrow.parquet as pq\n",
    "\n",
    "\n",
    "def add_person(df, surname, name, phone, birthdate_str):\n",
    "    birthdate = datetime.strptime(birthdate_str, \"%d.%m.%Y\")\n",
    "    new_row = pd.DataFrame(\n",
    "        [[surname, name, phone, birthdate]],\n",
    "        columns=[\"Фамилия\", \"Имя\", \"Телефон\", \"Дата рождения\"],\n",
    "    )\n",
    "    df = pd.concat([df, new_row], ignore_index=True)\n",
    "    return df.sort_values(by=[\"Фамилия\", \"Имя\"]).reset_index(drop=True)\n",
    "\n",
    "\n",
    "def find_by_month(df, month):\n",
    "    return df[df[\"Дата рождения\"].dt.month == month]\n",
    "\n",
    "\n",
    "def save_to_parquet(df, filename=\"people.parquet\"):\n",
    "    table = pa.Table.from_pandas(df)\n",
    "    pq.write_table(table, filename)\n",
    "\n",
    "\n",
    "def load_from_parquet(filename=\"people.parquet\"):\n",
    "    table = pq.read_table(filename)\n",
    "    return table.to_pandas()\n"
   ]
  },
  {
   "cell_type": "code",
   "execution_count": null,
   "id": "58f8327c-059e-4a60-b1a3-36f45501edad",
   "metadata": {},
   "outputs": [],
   "source": []
  }
 ],
 "metadata": {
  "kernelspec": {
   "display_name": "Python 3 (ipykernel)",
   "language": "python",
   "name": "python3"
  },
  "language_info": {
   "codemirror_mode": {
    "name": "ipython",
    "version": 3
   },
   "file_extension": ".py",
   "mimetype": "text/x-python",
   "name": "python",
   "nbconvert_exporter": "python",
   "pygments_lexer": "ipython3",
   "version": "3.9.13"
  }
 },
 "nbformat": 4,
 "nbformat_minor": 5
}
